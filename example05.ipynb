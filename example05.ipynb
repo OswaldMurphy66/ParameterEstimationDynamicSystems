{
 "cells": [
  {
   "cell_type": "markdown",
   "metadata": {},
   "source": [
    "In this example we try to determine the covariance matrix $Q$ which corresponds to the process noise of the state-space model that represents an integrated random walk. An integrated random walk can be described by \n",
    "$$\n",
    "\\begin{bmatrix}\n",
    "\\dot{x}_1 \\\\\n",
    "\\dot{x}_2 \n",
    "\\end{bmatrix} =\n",
    "\\begin{bmatrix}\n",
    "0 & 1 \\\\\n",
    "0 & 0\n",
    "\\end{bmatrix}\n",
    "\\begin{bmatrix}\n",
    "x_1 \\\\\n",
    "x_2 \n",
    "\\end{bmatrix}\n",
    "+\n",
    "\\begin{bmatrix}\n",
    "0 \\\\\n",
    "\\sqrt{a} \n",
    "\\end{bmatrix}\n",
    "w(t)$$\n",
    "where $a$ corresponds the power spectral density of the process (we will neglect the physical meaning of this value at this moment).\n",
    "\n",
    "We can compute the state transition matrix $\\Phi$ "
   ]
  },
  {
   "cell_type": "code",
   "execution_count": 135,
   "metadata": {},
   "outputs": [
    {
     "name": "stdout",
     "output_type": "stream",
     "text": [
      "Matrix([[1, dt], [0, 1]])\n"
     ]
    }
   ],
   "source": [
    "import sympy as sp\n",
    "#declare symbolic variable\n",
    "dt=sp.symbols('dt')\n",
    "F=sp.Matrix([[0, 1], [0, 0]])*dt\n",
    "\n",
    "# in this case the exp() function can directly compute the matrix exponential. \n",
    "# In numeric examples use the expm() function!\n",
    "phi=sp.exp(F)\n",
    "\n",
    "print(phi)"
   ]
  },
  {
   "cell_type": "markdown",
   "metadata": {
    "collapsed": true
   },
   "source": [
    "We have found our state transition matrix \n",
    "$$\n",
    "\\Phi =\n",
    "\\begin{bmatrix}\n",
    "1 & \\Delta t \\\\\n",
    "0 & 1\n",
    "\\end{bmatrix}\n",
    "$$\n",
    "\n",
    "So now we can start evaluating the intergral (Eq. 6.3) for the process noise covariance. Since the integrated random walk process is driven by white noise, $\\Lambda(\\tau)$ is a unit matrix. Thus, the term which we need to evaluate is simply\n",
    "$$ Q=\n",
    "\\displaystyle\\int\\limits_{t_{n-1}}^{t_{n}} \n",
    "\\Phi(t_n,\\tau)G(\\tau)G^T(\\tau)\\Phi^T(t_n,\\tau) d\\tau \n",
    "$$\n",
    "\n",
    "with \n",
    "$$ G=\n",
    "\\begin{bmatrix}\n",
    "0 \\\\\n",
    "\\sqrt{a} \n",
    "\\end{bmatrix}\n",
    "$$\n",
    "we obtain\n"
   ]
  },
  {
   "cell_type": "code",
   "execution_count": 136,
   "metadata": {},
   "outputs": [
    {
     "data": {
      "text/plain": [
       "Matrix([\n",
       "[a*(-tau + tn)**2, a*(-tau + tn)],\n",
       "[   a*(-tau + tn),             a]])"
      ]
     },
     "execution_count": 136,
     "metadata": {},
     "output_type": "execute_result"
    }
   ],
   "source": [
    "a=sp.symbols('a')\n",
    "tau=sp.symbols('tau')\n",
    "tn=sp.symbols('tn')\n",
    "phis=sp.Matrix([[1, (tn-tau)], [0, 1]])\n",
    "G=sp.Matrix([0 ,sp.sqrt(a)])\n",
    "\n",
    "M=phis*G*G.transpose()*phis.transpose()\n",
    "M"
   ]
  },
  {
   "cell_type": "markdown",
   "metadata": {},
   "source": [
    "So we can obtain the process covariance by\n",
    "$$ Q = a\n",
    "\\displaystyle\\int\\limits_{t_{n-1}}^{t_{n}} \n",
    "\\begin{bmatrix}\n",
    "(t_n-\\tau)^2 & t_n-\\tau \\\\\n",
    "t_n-\\tau & 1\n",
    "\\end{bmatrix} d\\tau\n",
    "$$\n"
   ]
  },
  {
   "cell_type": "code",
   "execution_count": 137,
   "metadata": {},
   "outputs": [
    {
     "data": {
      "text/plain": [
       "Matrix([\n",
       "[a*tn**3/3 - a*tn**2*tn1 + a*tn*tn1**2 - a*tn1**3/3, a*tn**2/2 - a*tn*tn1 + a*tn1**2/2],\n",
       "[                 a*tn**2/2 - a*tn*tn1 + a*tn1**2/2,                      a*tn - a*tn1]])"
      ]
     },
     "execution_count": 137,
     "metadata": {},
     "output_type": "execute_result"
    }
   ],
   "source": [
    "# integrate symbolically\n",
    "integ=sp.integrate(M,tau)\n",
    "# evaluate at the upper boundary, i.e. t_n\n",
    "upper=integ.subs(tau,tn)\n",
    "# evaluate at the lower boundary, i.e. t_n-1\n",
    "tn1=sp.symbols('tn1')\n",
    "lower=integ.subs(tau,tn1)\n",
    "#write explicit solution\n",
    "upper-lower\n"
   ]
  },
  {
   "cell_type": "markdown",
   "metadata": {},
   "source": [
    "Considering now that \n",
    "$$\\Delta t = t_n - t_{n-1}\n",
    "$$ \n",
    "we have found our process noise matrix to be\n",
    "$$ Q = a\n",
    "\\begin{bmatrix}\n",
    "\\frac{\\Delta t^3}{3} & \\frac{\\Delta t^2}{2} \\\\\n",
    " \\frac{\\Delta t^2}{2} & \\Delta t\n",
    "\\end{bmatrix} \n",
    "$$\n",
    "\n",
    "Assuming now our time steps are $\\Delta t = $ 1 s and $a=1$ we obtain the process noise matrix as"
   ]
  },
  {
   "cell_type": "code",
   "execution_count": 138,
   "metadata": {},
   "outputs": [
    {
     "data": {
      "text/plain": [
       "Matrix([\n",
       "[0.333333333333333, 0.5],\n",
       "[              0.5, 1.0]])"
      ]
     },
     "execution_count": 138,
     "metadata": {},
     "output_type": "execute_result"
    }
   ],
   "source": [
    "v=upper.subs(tn,1)-lower.subs(tn1,0)\n",
    "v.evalf(subs={a: 1.0})"
   ]
  },
  {
   "cell_type": "markdown",
   "metadata": {},
   "source": [
    "Would we have achieved the same result for the process covariance matrix if we would have chosen to use the numerical way? Well, let's find it out"
   ]
  },
  {
   "cell_type": "code",
   "execution_count": 139,
   "metadata": {},
   "outputs": [
    {
     "name": "stdout",
     "output_type": "stream",
     "text": [
      "[[ 0. -1.  0.  0.]\n",
      " [ 0.  0.  0.  1.]\n",
      " [ 0.  0.  0.  0.]\n",
      " [ 0.  0.  1.  0.]]\n"
     ]
    }
   ],
   "source": [
    "# First we form the Matrix A\n",
    "import numpy as np\n",
    "F=np.matrix([[0, 1], [0, 0]])\n",
    "dt=1.0\n",
    "a=1\n",
    "GWGt=np.matrix([[0, 0], [0, a]])\n",
    "H1= np.concatenate((-F,GWGt ), axis=1)\n",
    "H2= np.concatenate((np.zeros((2,2)),np.transpose(F)), axis=1)\n",
    "A= np.concatenate((H1,H2), axis=0)*dt\n",
    "print(A)\n"
   ]
  },
  {
   "cell_type": "markdown",
   "metadata": {},
   "source": [
    "Now we compute the auxilliary matrix $B = exp(A)$"
   ]
  },
  {
   "cell_type": "code",
   "execution_count": 140,
   "metadata": {},
   "outputs": [
    {
     "name": "stdout",
     "output_type": "stream",
     "text": [
      "[[ 1.         -1.         -0.16666667 -0.5       ]\n",
      " [ 0.          1.          0.5         1.        ]\n",
      " [ 0.          0.          1.          0.        ]\n",
      " [ 0.          0.          1.          1.        ]]\n"
     ]
    }
   ],
   "source": [
    "from scipy import linalg\n",
    "B=linalg.expm(A)\n",
    "print(B)"
   ]
  },
  {
   "cell_type": "markdown",
   "metadata": {},
   "source": [
    "The lower right part is the transpose of the state transition matrix and the upper right part is the product $\\Phi^{-1}Q$. So let's check if we get the same results as in the analytic way"
   ]
  },
  {
   "cell_type": "code",
   "execution_count": 141,
   "metadata": {},
   "outputs": [
    {
     "name": "stdout",
     "output_type": "stream",
     "text": [
      "[[-0.16666667 -0.5       ]\n",
      " [ 0.5         1.        ]]\n",
      "State transition matrix Phi\n",
      "[[1. 1.]\n",
      " [0. 1.]]\n",
      "Process noise covariance\n",
      "[[0.33333333 0.5       ]\n",
      " [0.5        1.        ]]\n"
     ]
    }
   ],
   "source": [
    "B22=B[np.ix_([2,3],[2,3])]\n",
    "B12=B[np.ix_([0,1],[2,3])]\n",
    "print(B12)\n",
    "Phi_num = np.transpose(B22)\n",
    "print(\"State transition matrix Phi\")\n",
    "print(Phi_num)\n",
    "Q_num =Phi_num.dot(B12)\n",
    "print(\"Process noise covariance\")\n",
    "print(Q_num)\n",
    "\n"
   ]
  },
  {
   "cell_type": "markdown",
   "metadata": {},
   "source": [
    "We end up with the same matrices. In many cases there is no or only a very difficult to obtain analytical solution and thus the numerical way is preferred."
   ]
  },
  {
   "cell_type": "code",
   "execution_count": null,
   "metadata": {},
   "outputs": [],
   "source": []
  }
 ],
 "metadata": {
  "kernelspec": {
   "display_name": "Python 3",
   "language": "python",
   "name": "python3"
  },
  "language_info": {
   "codemirror_mode": {
    "name": "ipython",
    "version": 3
   },
   "file_extension": ".py",
   "mimetype": "text/x-python",
   "name": "python",
   "nbconvert_exporter": "python",
   "pygments_lexer": "ipython3",
   "version": "3.7.0"
  }
 },
 "nbformat": 4,
 "nbformat_minor": 2
}
